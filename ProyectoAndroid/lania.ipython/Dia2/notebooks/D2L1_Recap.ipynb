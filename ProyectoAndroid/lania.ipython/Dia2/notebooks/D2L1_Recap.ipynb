{
 "cells": [
  {
   "cell_type": "markdown",
   "metadata": {},
   "source": [
    "# Dia 2, Libreta 1\n",
    "Recapitulando, contamos con una conexion al dispositivo Android a traves de la SL4A. En caso de no tener su sitema configurado, favor de revisar el contenido del Dia 1.\n",
    "\n",
    "En esta primera libreta haremos algunas pruebas con el dispositivo desde Android, para despues comenzar a interactuar con los sensores disponibles."
   ]
  },
  {
   "cell_type": "code",
   "execution_count": 1,
   "metadata": {
    "collapsed": true
   },
   "outputs": [],
   "source": [
    "import android"
   ]
  },
  {
   "cell_type": "code",
   "execution_count": 2,
   "metadata": {
    "collapsed": true
   },
   "outputs": [],
   "source": [
    "import os"
   ]
  },
  {
   "cell_type": "code",
   "execution_count": 3,
   "metadata": {
    "collapsed": false
   },
   "outputs": [
    {
     "data": {
      "text/plain": [
       "['',\n",
       " 'D:\\\\Users\\\\Chrys\\\\Anaconda\\\\python27.zip',\n",
       " 'D:\\\\Users\\\\Chrys\\\\Anaconda\\\\DLLs',\n",
       " 'D:\\\\Users\\\\Chrys\\\\Anaconda\\\\lib',\n",
       " 'D:\\\\Users\\\\Chrys\\\\Anaconda\\\\lib\\\\plat-win',\n",
       " 'D:\\\\Users\\\\Chrys\\\\Anaconda\\\\lib\\\\lib-tk',\n",
       " 'D:\\\\Users\\\\Chrys\\\\Anaconda',\n",
       " 'd:\\\\users\\\\chrys\\\\anaconda\\\\lib\\\\site-packages\\\\sphinx-1.3.1-py2.7.egg',\n",
       " 'd:\\\\users\\\\chrys\\\\anaconda\\\\lib\\\\site-packages\\\\setuptools-18.4-py2.7.egg',\n",
       " 'D:\\\\Users\\\\Chrys\\\\Anaconda\\\\lib\\\\site-packages',\n",
       " 'D:\\\\Users\\\\Chrys\\\\Anaconda\\\\lib\\\\site-packages\\\\cryptography-0.9.1-py2.7-win-amd64.egg',\n",
       " 'D:\\\\Users\\\\Chrys\\\\Anaconda\\\\lib\\\\site-packages\\\\win32',\n",
       " 'D:\\\\Users\\\\Chrys\\\\Anaconda\\\\lib\\\\site-packages\\\\win32\\\\lib',\n",
       " 'D:\\\\Users\\\\Chrys\\\\Anaconda\\\\lib\\\\site-packages\\\\Pythonwin',\n",
       " 'D:\\\\Users\\\\Chrys\\\\Anaconda\\\\lib\\\\site-packages\\\\IPython\\\\extensions',\n",
       " 'C:\\\\Users\\\\Chrys\\\\.ipython']"
      ]
     },
     "execution_count": 3,
     "metadata": {},
     "output_type": "execute_result"
    }
   ],
   "source": [
    "os.sys.path"
   ]
  },
  {
   "cell_type": "code",
   "execution_count": 7,
   "metadata": {
    "collapsed": false
   },
   "outputs": [
    {
     "name": "stdout",
     "output_type": "stream",
     "text": [
      "List of devices attached \n",
      "081081e1\tdevice\n",
      "\n"
     ]
    }
   ],
   "source": [
    "!adb devices"
   ]
  },
  {
   "cell_type": "code",
   "execution_count": 8,
   "metadata": {
    "collapsed": false
   },
   "outputs": [],
   "source": [
    "!adb forward tcp:9999 tcp:59999"
   ]
  },
  {
   "cell_type": "code",
   "execution_count": 9,
   "metadata": {
    "collapsed": false
   },
   "outputs": [],
   "source": [
    "droide=android.Android()"
   ]
  },
  {
   "cell_type": "code",
   "execution_count": 24,
   "metadata": {
    "collapsed": false
   },
   "outputs": [],
   "source": [
    "nombre = droide.dialogGetInput(\"Hola!\", \"Como te llamas?\")"
   ]
  },
  {
   "cell_type": "code",
   "execution_count": 12,
   "metadata": {
    "collapsed": false
   },
   "outputs": [
    {
     "name": "stdout",
     "output_type": "stream",
     "text": [
      "Result(id=0, result=u'chrystian', error=None)\n"
     ]
    }
   ],
   "source": [
    "print nombre"
   ]
  },
  {
   "cell_type": "code",
   "execution_count": 25,
   "metadata": {
    "collapsed": false
   },
   "outputs": [
    {
     "data": {
      "text/plain": [
       "Result(id=1, result=None, error=None)"
      ]
     },
     "execution_count": 25,
     "metadata": {},
     "output_type": "execute_result"
    }
   ],
   "source": [
    "droide.makeToast(\"Hola, %s\" % nombre.result)"
   ]
  },
  {
   "cell_type": "code",
   "execution_count": 26,
   "metadata": {
    "collapsed": false
   },
   "outputs": [
    {
     "data": {
      "text/plain": [
       "Result(id=2, result=None, error=None)"
      ]
     },
     "execution_count": 26,
     "metadata": {},
     "output_type": "execute_result"
    }
   ],
   "source": [
    "droide.ttsSpeak(\"Hola, %s\" % nombre.result)"
   ]
  },
  {
   "cell_type": "code",
   "execution_count": null,
   "metadata": {
    "collapsed": true
   },
   "outputs": [],
   "source": []
  }
 ],
 "metadata": {
  "kernelspec": {
   "display_name": "Python 2",
   "language": "python",
   "name": "python2"
  },
  "language_info": {
   "codemirror_mode": {
    "name": "ipython",
    "version": 2
   },
   "file_extension": ".py",
   "mimetype": "text/x-python",
   "name": "python",
   "nbconvert_exporter": "python",
   "pygments_lexer": "ipython2",
   "version": "2.7.10"
  }
 },
 "nbformat": 4,
 "nbformat_minor": 0
}
