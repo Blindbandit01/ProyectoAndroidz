{
 "cells": [
  {
   "cell_type": "markdown",
   "metadata": {},
   "source": [
    "# Dia 2, Libreta 5 acelerometro\n",
    "\n",
    "En esta libreta accederemos a los datos de su acelerometro. Nuevamente importen el modulo y creen un objeto `android`."
   ]
  },
  {
   "cell_type": "code",
   "execution_count": 3,
   "metadata": {
    "collapsed": false
   },
   "outputs": [],
   "source": [
    "import android\n",
    "droide=android.Android()"
   ]
  },
  {
   "cell_type": "code",
   "execution_count": 4,
   "metadata": {
    "collapsed": false
   },
   "outputs": [
    {
     "data": {
      "text/plain": [
       "Result(id=0, result=None, error=None)"
      ]
     },
     "execution_count": 4,
     "metadata": {},
     "output_type": "execute_result"
    }
   ],
   "source": [
    "droide.ttsSpeak(\"hola bato\")"
   ]
  },
  {
   "cell_type": "code",
   "execution_count": 6,
   "metadata": {
    "collapsed": true
   },
   "outputs": [],
   "source": [
    "# 100ms entre lecturas\n",
    "dt = 100\n",
    "# duracion de la muestras\n",
    "fin = 3000"
   ]
  },
  {
   "cell_type": "markdown",
   "metadata": {},
   "source": [
    "Inicializamos el tiempo de censado e iniciamos censado en el dispositivo"
   ]
  },
  {
   "cell_type": "code",
   "execution_count": 19,
   "metadata": {
    "collapsed": false
   },
   "outputs": [
    {
     "data": {
      "text/plain": [
       "Result(id=40, result=None, error=None)"
      ]
     },
     "execution_count": 19,
     "metadata": {},
     "output_type": "execute_result"
    }
   ],
   "source": [
    "tiempo = 0\n",
    "droide.startSensingTimed(2,dt)"
   ]
  },
  {
   "cell_type": "markdown",
   "metadata": {},
   "source": [
    "La siguiente instruccion regresa los valores de la lectura del acelerometro:"
   ]
  },
  {
   "cell_type": "code",
   "execution_count": 20,
   "metadata": {
    "collapsed": false
   },
   "outputs": [
    {
     "data": {
      "text/plain": [
       "Result(id=41, result=[0.23523031, -1.4203602, -9.403826], error=None)"
      ]
     },
     "execution_count": 20,
     "metadata": {},
     "output_type": "execute_result"
    }
   ],
   "source": [
    "droide.sensorsReadAccelerometer()"
   ]
  },
  {
   "cell_type": "markdown",
   "metadata": {},
   "source": [
    "Guardaremos estas lecturas en una variable que contendra los datos"
   ]
  },
  {
   "cell_type": "code",
   "execution_count": 21,
   "metadata": {
    "collapsed": true
   },
   "outputs": [],
   "source": [
    "lecturas = []"
   ]
  },
  {
   "cell_type": "markdown",
   "metadata": {},
   "source": [
    "Ahora censamos hasta que el tiempo alcance el tiempo de sensado"
   ]
  },
  {
   "cell_type": "code",
   "execution_count": 22,
   "metadata": {
    "collapsed": false
   },
   "outputs": [],
   "source": [
    "import time\n",
    "while tiempo <= fin:\n",
    "    lecturas.append(droide.sensorsReadAccelerometer().result)\n",
    "    time.sleep(dt/1000.0)\n",
    "    tiempo += dt\n",
    "    \n",
    "droide.stopSensing();"
   ]
  },
  {
   "cell_type": "code",
   "execution_count": 16,
   "metadata": {
    "collapsed": false
   },
   "outputs": [
    {
     "name": "stdout",
     "output_type": "stream",
     "text": [
      "Overwriting D2L5.py\n"
     ]
    }
   ],
   "source": [
    "%%file D2L5.py\n",
    "import android\n",
    "droide=android.Android()\n",
    "\n",
    "archivo = droide.dialogGetInput(\"Ecriba nombre de archivo\")\n",
    "dt = 100\n",
    "fin = 30000\n",
    "tiempo = 0\n",
    "droide.startSensingTimed(2,dt)\n",
    "\n",
    "lecturas = []\n",
    "droide.ttsSpeak(\"Inicio de recorrido\")\n",
    "import time\n",
    "while tiempo <= fin:\n",
    "    lecturas.append(droide.sensorsReadAccelerometer().result)\n",
    "    time.sleep(dt/1000.0)\n",
    "    tiempo += dt\n",
    "    \n",
    "droide.stopSensing();\n",
    "droide.ttsSpeak(\"Fin de recorrido\")\n",
    "\n",
    "import csv\n",
    "#c = csv.writer(open(\"MYFILE.csv\", \"wb\"))\n",
    "#c.writerow(lecturas)\n",
    "with open(archivo.result + '.csv', 'w') as fp:\n",
    "    a=csv.writer(fp,delimiter=',')\n",
    "    a.writerows(lecturas)"
   ]
  },
  {
   "cell_type": "code",
   "execution_count": 17,
   "metadata": {
    "collapsed": false
   },
   "outputs": [
    {
     "name": "stderr",
     "output_type": "stream",
     "text": [
      "122 KB/s (627 bytes in 0.005s)\n"
     ]
    }
   ],
   "source": [
    "!adb push D2L5.py /sdcard/sl4a/scripts"
   ]
  },
  {
   "cell_type": "code",
   "execution_count": 18,
   "metadata": {
    "collapsed": false
   },
   "outputs": [
    {
     "name": "stderr",
     "output_type": "stream",
     "text": [
      "1201 KB/s (16002 bytes in 0.013s)\n"
     ]
    }
   ],
   "source": [
    "!adb pull /sdcard/sl4a/artes.csv"
   ]
  },
  {
   "cell_type": "code",
   "execution_count": 19,
   "metadata": {
    "collapsed": true
   },
   "outputs": [],
   "source": [
    "import pandas as pd\n",
    "%matplotlib inline"
   ]
  },
  {
   "cell_type": "code",
   "execution_count": 22,
   "metadata": {
    "collapsed": false
   },
   "outputs": [
    {
     "name": "stdout",
     "output_type": "stream",
     "text": [
      "     -3.4380736000000001  8.6281040000000004  3.3087865999999999\n",
      "0              -3.000533            8.681973            3.383605\n",
      "1              -3.223793            8.946533            3.286640\n",
      "2              -2.568978            8.908226            3.921104\n",
      "3              -3.311181            8.428188            3.881001\n",
      "4              -3.900155            8.045116            4.314352\n",
      "5              -3.654749            8.198345            4.200028\n",
      "6              -3.743933            8.091804            4.320936\n",
      "7              -3.912724            7.989451            4.413112\n",
      "8              -3.418920            8.179790            4.495712\n",
      "9              -3.828329            8.131308            4.480749\n",
      "10             -3.936068            7.937377            4.542998\n",
      "11             -3.621230            8.130709            4.371214\n",
      "12             -3.838504            8.083424            4.349067\n",
      "13             -3.737349            8.018780            4.636372\n",
      "14             -4.073734            7.864953            4.700417\n",
      "15             -4.112042            7.952940            4.434062\n",
      "16             -3.552995            8.102577            4.150349\n",
      "17             -3.414730            7.810484            4.817134\n",
      "18             -4.510676            7.478289            5.104438\n",
      "19             -4.508282            7.047931            5.269638\n",
      "20             -4.680664            7.590218            5.113416\n",
      "21             -5.528810            7.121553            3.255516\n",
      "22             -5.342661            7.357980            3.736152\n",
      "23             -4.964377            7.117363            5.043984\n",
      "24             -4.569334            7.769185            4.122815\n",
      "25             -4.920683            7.513005            4.195838\n",
      "26             -4.778827            7.584232            4.452018\n",
      "27             -4.870405            7.566874            3.970185\n",
      "28             -4.660314            7.824251            4.040216\n",
      "29             -4.441244            7.660847            3.960010\n",
      "..                   ...                 ...                 ...\n",
      "270             0.117914            0.075417           10.161591\n",
      "271             0.043694            0.017358           10.144233\n",
      "272             0.132280            0.047884           10.193314\n",
      "273             0.112527            0.015562           10.199299\n",
      "274             0.168193           -0.001197           10.178948\n",
      "275             0.132280            0.036512           10.187328\n",
      "276             0.156222            0.010175           10.123882\n",
      "277             0.157419            0.020351           10.181343\n",
      "278             0.139462            0.013168           10.165182\n",
      "279             0.093972            0.023343           10.198701\n",
      "280             0.105943            0.041899           10.202890\n",
      "281             0.120907            0.029928           10.151415\n",
      "282             0.125696            0.052074           10.158598\n",
      "283             0.186748            0.042497           10.173561\n",
      "284             0.071227            0.042497           10.166379\n",
      "285             0.120309            0.029928           10.183737\n",
      "286             0.113126            0.053271           10.151415\n",
      "287             0.165200            0.011971           10.147824\n",
      "288             0.126893            0.019752           10.172963\n",
      "289             0.196325            0.026935           10.165182\n",
      "290             0.157419           -0.005986           10.194510\n",
      "291             0.110133            0.060454           10.144831\n",
      "292             0.142455           -0.022745           10.184336\n",
      "293             0.178967            0.028132           10.163984\n",
      "294             0.133477            0.029329           10.189722\n",
      "295             0.112527            0.029928           10.196905\n",
      "296             0.096367            0.032322           10.181941\n",
      "297             0.134075            0.031723           10.190920\n",
      "298             0.098162            0.025738           10.190321\n",
      "299             0.123301           -0.004190           10.159196\n",
      "\n",
      "[300 rows x 3 columns]\n"
     ]
    }
   ],
   "source": [
    "df = pd.read_csv('test1.csv',header=0)\n",
    "print df"
   ]
  },
  {
   "cell_type": "code",
   "execution_count": null,
   "metadata": {
    "collapsed": true
   },
   "outputs": [],
   "source": [
    "# %load test1.csv"
   ]
  },
  {
   "cell_type": "code",
   "execution_count": 23,
   "metadata": {
    "collapsed": false
   },
   "outputs": [
    {
     "data": {
      "text/plain": [
       "<matplotlib.axes._subplots.AxesSubplot at 0xbfbe780>"
      ]
     },
     "execution_count": 23,
     "metadata": {},
     "output_type": "execute_result"
    },
    {
     "data": {
      "image/png": "[encoded data removed]",
      "text/plain": [
       "<matplotlib.figure.Figure at 0xc847400>"
      ]
     },
     "metadata": {},
     "output_type": "display_data"
    }
   ],
   "source": [
    "df.plot()"
   ]
  },
  {
   "cell_type": "code",
   "execution_count": 11,
   "metadata": {
    "collapsed": true
   },
   "outputs": [],
   "source": [
    "import pandas as pd\n",
    "%matplotlib inline"
   ]
  },
  {
   "cell_type": "code",
   "execution_count": 24,
   "metadata": {
    "collapsed": false
   },
   "outputs": [],
   "source": [
    "df = pd.DataFrame(lecturas, columns=['x','y','z'])"
   ]
  },
  {
   "cell_type": "code",
   "execution_count": 25,
   "metadata": {
    "collapsed": false
   },
   "outputs": [
    {
     "name": "stdout",
     "output_type": "stream",
     "text": [
      "<class 'pandas.core.frame.DataFrame'>\n",
      "Int64Index: 31 entries, 0 to 30\n",
      "Data columns (total 3 columns):\n",
      "x    31 non-null float64\n",
      "y    31 non-null float64\n",
      "z    31 non-null float64\n",
      "dtypes: float64(3)\n",
      "memory usage: 992.0 bytes\n"
     ]
    }
   ],
   "source": [
    "df.info()"
   ]
  },
  {
   "cell_type": "markdown",
   "metadata": {},
   "source": [
    "# Ejercicio\n",
    "\n",
    "Escriban un script que lleve a cabo unicamente la lectura de los datos del acelerometro de su dispositivo y copienlo en el folder correspondiente para ejecutarlo desde sus dispositivos."
   ]
  }
 ],
 "metadata": {
  "kernelspec": {
   "display_name": "Python 2",
   "language": "python",
   "name": "python2"
  },
  "language_info": {
   "codemirror_mode": {
    "name": "ipython",
    "version": 2
   },
   "file_extension": ".py",
   "mimetype": "text/x-python",
   "name": "python",
   "nbconvert_exporter": "python",
   "pygments_lexer": "ipython2",
   "version": "2.7.10"
  }
 },
 "nbformat": 4,
 "nbformat_minor": 0
}
