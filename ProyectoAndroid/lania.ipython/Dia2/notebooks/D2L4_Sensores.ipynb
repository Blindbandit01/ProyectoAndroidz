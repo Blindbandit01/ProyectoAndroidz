{
 "cells": [
  {
   "cell_type": "markdown",
   "metadata": {},
   "source": [
    "# Dia 2, Libreta 4. Probando sensores\n",
    "\n",
    "En esta libreta conoceremos, de forma programatica, como probar los sensores que tienen instalados en sus dispositivos y extraeremos informacion de ellos."
   ]
  },
  {
   "cell_type": "code",
   "execution_count": 4,
   "metadata": {
    "collapsed": false
   },
   "outputs": [],
   "source": [
    "import time, sys, os, re\n",
    "import cv2\n",
    "import numpy as np\n",
    "import android\n",
    "import matplotlib.pyplot as plt\n",
    "droide=android.Android()"
   ]
  },
  {
   "cell_type": "code",
   "execution_count": 5,
   "metadata": {
    "collapsed": false
   },
   "outputs": [],
   "source": [
    "!adb forward tcp:9999 tcp:59999"
   ]
  },
  {
   "cell_type": "code",
   "execution_count": 6,
   "metadata": {
    "collapsed": false
   },
   "outputs": [
    {
     "data": {
      "text/plain": [
       "Result(id=0, result=None, error=None)"
      ]
     },
     "execution_count": 6,
     "metadata": {},
     "output_type": "execute_result"
    }
   ],
   "source": [
    "droide.ttsSpeak(\"aqui estoy\")"
   ]
  },
  {
   "cell_type": "code",
   "execution_count": 4,
   "metadata": {
    "collapsed": false
   },
   "outputs": [
    {
     "data": {
      "text/plain": [
       "Result(id=1, result=None, error=None)"
      ]
     },
     "execution_count": 4,
     "metadata": {},
     "output_type": "execute_result"
    }
   ],
   "source": [
    "droide.startSensingTimed(1,100)"
   ]
  },
  {
   "cell_type": "code",
   "execution_count": 5,
   "metadata": {
    "collapsed": false
   },
   "outputs": [
    {
     "name": "stdout",
     "output_type": "stream",
     "text": [
      "True\n",
      "True\n",
      "True\n",
      "True\n",
      "True\n",
      "True\n",
      "True\n",
      "True\n",
      "True\n",
      "True\n"
     ]
    }
   ],
   "source": [
    "for i in range(10):\n",
    "    e = droide.eventPoll(1)\n",
    "    if e.result is not None:\n",
    "        print True\n",
    "    else:\n",
    "        time.sleep(2)\n",
    "        print False"
   ]
  },
  {
   "cell_type": "code",
   "execution_count": 6,
   "metadata": {
    "collapsed": false
   },
   "outputs": [
    {
     "data": {
      "text/plain": [
       "Result(id=12, result=None, error=None)"
      ]
     },
     "execution_count": 6,
     "metadata": {},
     "output_type": "execute_result"
    }
   ],
   "source": [
    "droide.stopSensing()"
   ]
  },
  {
   "cell_type": "markdown",
   "metadata": {},
   "source": [
    "De acuerdo a la documentacion, `startSensingTimed` requiere dos argumentos enteros (int). El primero de ellos especifica el sensor del cual se va a leer. Si el valor es 1 se utilizan todos los sensores disponibles; 2 = acelerometro, 3 = magnetometro, 4 = luz. El segundo entero espcifica el tiempo minimo, en milisegundos, entre lecturas.\n",
    "\n",
    "# Probando el gps\n",
    "\n",
    "Tambien podemos tomar lecturas del localizacion. Veamos de donde podemos acceder datos de localizacion de su dispositivo:"
   ]
  },
  {
   "cell_type": "code",
   "execution_count": 10,
   "metadata": {
    "collapsed": false
   },
   "outputs": [
    {
     "data": {
      "text/plain": [
       "Result(id=1, result=[u'passive', u'gps', u'network'], error=None)"
      ]
     },
     "execution_count": 10,
     "metadata": {},
     "output_type": "execute_result"
    }
   ],
   "source": [
    "droide.locationProviders()"
   ]
  },
  {
   "cell_type": "code",
   "execution_count": 11,
   "metadata": {
    "collapsed": false
   },
   "outputs": [
    {
     "data": {
      "text/plain": [
       "Result(id=2, result=None, error=None)"
      ]
     },
     "execution_count": 11,
     "metadata": {},
     "output_type": "execute_result"
    }
   ],
   "source": [
    "droide.startLocating()"
   ]
  },
  {
   "cell_type": "code",
   "execution_count": 12,
   "metadata": {
    "collapsed": false
   },
   "outputs": [
    {
     "name": "stdout",
     "output_type": "stream",
     "text": [
      "True\n",
      "True\n",
      "True\n",
      "True\n",
      "True\n",
      "True\n",
      "True\n",
      "True\n",
      "True\n",
      "True\n"
     ]
    }
   ],
   "source": [
    "for i in range(10):\n",
    "    e = droide.eventPoll(1)\n",
    "    if e.result is not None:\n",
    "        print True\n",
    "    else:\n",
    "        time.sleep(2)\n",
    "        print False"
   ]
  },
  {
   "cell_type": "markdown",
   "metadata": {},
   "source": [
    "Ahora escriban la siguiente instruccion y observen su dispositivo"
   ]
  },
  {
   "cell_type": "code",
   "execution_count": 13,
   "metadata": {
    "collapsed": false
   },
   "outputs": [],
   "source": [
    "evento = droide.eventWaitFor('location', 1000).result"
   ]
  },
  {
   "cell_type": "code",
   "execution_count": 14,
   "metadata": {
    "collapsed": false
   },
   "outputs": [
    {
     "data": {
      "text/plain": [
       "u'location'"
      ]
     },
     "execution_count": 14,
     "metadata": {},
     "output_type": "execute_result"
    }
   ],
   "source": [
    "evento['name']"
   ]
  },
  {
   "cell_type": "code",
   "execution_count": 17,
   "metadata": {
    "collapsed": false
   },
   "outputs": [
    {
     "data": {
      "text/plain": [
       "{u'data': {u'network': {u'accuracy': 30,\n",
       "   u'altitude': 0,\n",
       "   u'bearing': 0,\n",
       "   u'latitude': 19.5201215,\n",
       "   u'longitude': -96.9155571,\n",
       "   u'provider': u'network',\n",
       "   u'speed': 0,\n",
       "   u'time': 1446312809874L}},\n",
       " u'name': u'location',\n",
       " u'time': 1446312809995000L}"
      ]
     },
     "execution_count": 17,
     "metadata": {},
     "output_type": "execute_result"
    }
   ],
   "source": [
    "evento"
   ]
  },
  {
   "cell_type": "code",
   "execution_count": 16,
   "metadata": {
    "collapsed": false
   },
   "outputs": [],
   "source": [
    "lat=str(evento['data']['network']['latitude'])\n",
    "lng = str(evento['data']['network']['longitude'])"
   ]
  },
  {
   "cell_type": "markdown",
   "metadata": {},
   "source": [
    "Podemos asignar las variables dependiendo del sensor que se usa para obtener el evento:"
   ]
  },
  {
   "cell_type": "code",
   "execution_count": 18,
   "metadata": {
    "collapsed": false
   },
   "outputs": [
    {
     "name": "stdout",
     "output_type": "stream",
     "text": [
      "lat: 19.5201215 lng: -96.9155571\n"
     ]
    }
   ],
   "source": [
    "if evento['name'] == 'location':\n",
    "    try:\n",
    "        lat = str(evento['data']['gps']['latitude'])\n",
    "        lng = str(evento['data']['gps']['longitude'])\n",
    "    except KeyError:\n",
    "        lat = str(evento['data']['network']['latitude'])\n",
    "        lng = str(evento['data']['network']['longitude'])\n",
    "    latlng = 'lat: ' + lat + ' lng: ' + lng\n",
    "print latlng"
   ]
  },
  {
   "cell_type": "code",
   "execution_count": 19,
   "metadata": {
    "collapsed": false
   },
   "outputs": [
    {
     "data": {
      "text/plain": [
       "Result(id=14, result=None, error=None)"
      ]
     },
     "execution_count": 19,
     "metadata": {},
     "output_type": "execute_result"
    }
   ],
   "source": [
    "droide.stopLocating()"
   ]
  },
  {
   "cell_type": "code",
   "execution_count": 22,
   "metadata": {
    "collapsed": false
   },
   "outputs": [
    {
     "data": {
      "text/plain": [
       "[{u'admin_area': u'Veracruz',\n",
       "  u'country_code': u'MX',\n",
       "  u'country_name': u'M\\xe9xico',\n",
       "  u'feature_name': u'18',\n",
       "  u'locality': u'Xalapa Enr\\xedquez',\n",
       "  u'thoroughfare': u'Enrique C R\\xe9bsamen'}]"
      ]
     },
     "execution_count": 22,
     "metadata": {},
     "output_type": "execute_result"
    }
   ],
   "source": [
    "droide.geocode(lat,lng).result"
   ]
  },
  {
   "cell_type": "code",
   "execution_count": 23,
   "metadata": {
    "collapsed": false
   },
   "outputs": [
    {
     "ename": "TypeError",
     "evalue": "'NoneType' object has no attribute '__getitem__'",
     "output_type": "error",
     "traceback": [
      "\u001b[1;31m---------------------------------------------------------------------------\u001b[0m",
      "\u001b[1;31mTypeError\u001b[0m                                 Traceback (most recent call last)",
      "\u001b[1;32m<ipython-input-23-fd97c3563e84>\u001b[0m in \u001b[0;36m<module>\u001b[1;34m()\u001b[0m\n\u001b[0;32m      1\u001b[0m \u001b[0mlnl\u001b[0m \u001b[1;33m=\u001b[0m  \u001b[0mdroide\u001b[0m\u001b[1;33m.\u001b[0m\u001b[0mgetLastKnownLocation\u001b[0m\u001b[1;33m(\u001b[0m\u001b[1;33m)\u001b[0m\u001b[1;33m\u001b[0m\u001b[0m\n\u001b[1;32m----> 2\u001b[1;33m \u001b[0mlat\u001b[0m\u001b[1;33m=\u001b[0m\u001b[0mlnl\u001b[0m\u001b[1;33m.\u001b[0m\u001b[0mresult\u001b[0m\u001b[1;33m[\u001b[0m\u001b[1;34m'gps'\u001b[0m\u001b[1;33m]\u001b[0m\u001b[1;33m[\u001b[0m\u001b[1;34m'latitude'\u001b[0m\u001b[1;33m]\u001b[0m\u001b[1;33m\u001b[0m\u001b[0m\n\u001b[0m\u001b[0;32m      3\u001b[0m \u001b[0mlng\u001b[0m\u001b[1;33m=\u001b[0m\u001b[0mlnl\u001b[0m\u001b[1;33m.\u001b[0m\u001b[0mresult\u001b[0m\u001b[1;33m[\u001b[0m\u001b[1;34m'gps'\u001b[0m\u001b[1;33m]\u001b[0m\u001b[1;33m[\u001b[0m\u001b[1;34m'longitude'\u001b[0m\u001b[1;33m]\u001b[0m\u001b[1;33m\u001b[0m\u001b[0m\n",
      "\u001b[1;31mTypeError\u001b[0m: 'NoneType' object has no attribute '__getitem__'"
     ]
    }
   ],
   "source": [
    "lnl =  droide.getLastKnownLocation()\n",
    "lat=lnl.result['gps']['latitude']\n",
    "lng=lnl.result['gps']['longitude']"
   ]
  },
  {
   "cell_type": "code",
   "execution_count": 98,
   "metadata": {
    "collapsed": false
   },
   "outputs": [
    {
     "data": {
      "text/plain": [
       "[{u'admin_area': u'Veracruz',\n",
       "  u'country_code': u'MX',\n",
       "  u'country_name': u'Mexico',\n",
       "  u'feature_name': u'70',\n",
       "  u'sub_admin_area': u'Xalapa',\n",
       "  u'thoroughfare': u'Enrique C. R\\xe9bsamen'}]"
      ]
     },
     "execution_count": 98,
     "metadata": {},
     "output_type": "execute_result"
    }
   ],
   "source": [
    "droide.geocode(lat,lng).result"
   ]
  },
  {
   "cell_type": "markdown",
   "metadata": {},
   "source": [
    "# Probando el telefono"
   ]
  },
  {
   "cell_type": "code",
   "execution_count": 57,
   "metadata": {
    "collapsed": false
   },
   "outputs": [
    {
     "data": {
      "text/plain": [
       "Result(id=19, result=None, error=None)"
      ]
     },
     "execution_count": 57,
     "metadata": {},
     "output_type": "execute_result"
    }
   ],
   "source": [
    "droide.startTrackingPhoneState()"
   ]
  },
  {
   "cell_type": "code",
   "execution_count": 60,
   "metadata": {
    "collapsed": false
   },
   "outputs": [
    {
     "name": "stdout",
     "output_type": "stream",
     "text": [
      "True\n",
      "True\n",
      "True\n",
      "True\n",
      "True\n",
      "True\n",
      "True\n",
      "True\n",
      "True\n",
      "True\n"
     ]
    }
   ],
   "source": [
    "for i in range(10):\n",
    "    e = droide.eventPoll(1)\n",
    "    if e.result is not None:\n",
    "        print True\n",
    "    else:\n",
    "        time.sleep(2)\n",
    "        print False"
   ]
  },
  {
   "cell_type": "code",
   "execution_count": 61,
   "metadata": {
    "collapsed": false
   },
   "outputs": [
    {
     "data": {
      "text/plain": [
       "Result(id=30, result=None, error=None)"
      ]
     },
     "execution_count": 61,
     "metadata": {},
     "output_type": "execute_result"
    }
   ],
   "source": [
    "droide.stopTrackingPhoneState()"
   ]
  },
  {
   "cell_type": "markdown",
   "metadata": {},
   "source": [
    "# Probando el estado del WiFi"
   ]
  },
  {
   "cell_type": "markdown",
   "metadata": {},
   "source": [
    "Vean el estado del wifi en su dispositivo, y despues escriban"
   ]
  },
  {
   "cell_type": "code",
   "execution_count": 25,
   "metadata": {
    "collapsed": false
   },
   "outputs": [
    {
     "data": {
      "text/plain": [
       "Result(id=20, result=True, error=None)"
      ]
     },
     "execution_count": 25,
     "metadata": {},
     "output_type": "execute_result"
    }
   ],
   "source": [
    "droide.toggleWifiState()"
   ]
  },
  {
   "cell_type": "markdown",
   "metadata": {},
   "source": [
    "Vuelvan a ver el estado del wifi"
   ]
  },
  {
   "cell_type": "code",
   "execution_count": 64,
   "metadata": {
    "collapsed": false
   },
   "outputs": [
    {
     "data": {
      "text/plain": [
       "Result(id=32, result=True, error=None)"
      ]
     },
     "execution_count": 64,
     "metadata": {},
     "output_type": "execute_result"
    }
   ],
   "source": [
    "droide.toggleWifiState()"
   ]
  },
  {
   "cell_type": "markdown",
   "metadata": {},
   "source": [
    "# Descubriendo sensores\n"
   ]
  },
  {
   "cell_type": "code",
   "execution_count": 110,
   "metadata": {
    "collapsed": false
   },
   "outputs": [
    {
     "data": {
      "text/plain": [
       "Result(id=8, result=None, error=None)"
      ]
     },
     "execution_count": 110,
     "metadata": {},
     "output_type": "execute_result"
    }
   ],
   "source": [
    "droide.startSensingTimed(1, 250)\n",
    "time.sleep(1)\n",
    "s1 = droide.readSensors().result\n",
    "s2 = droide.sensorsGetAccuracy().result\n",
    "s3 = droide.sensorsGetLight().result\n",
    "s4 = droide.sensorsReadAccelerometer().result\n",
    "s5 = droide.sensorsReadMagnetometer().result\n",
    "s6 = droide.sensorsReadOrientation().result\n",
    "droide.stopSensing()"
   ]
  },
  {
   "cell_type": "code",
   "execution_count": 112,
   "metadata": {
    "collapsed": false
   },
   "outputs": [
    {
     "data": {
      "text/plain": [
       "{u'accuracy': 3,\n",
       " u'azimuth': 2.5239644050598145,\n",
       " u'gravity-0': -0.15169721841812134,\n",
       " u'gravity-1': 0.5371214151382446,\n",
       " u'gravity-2': 9.790754318237305,\n",
       " u'light': 68,\n",
       " u'light-0': 0.03009372018277645,\n",
       " u'light-1': 0.02316950261592865,\n",
       " u'light-2': 0.0018642127979546785,\n",
       " u'linear_acceleration-0': 0.2265160232782364,\n",
       " u'linear_acceleration-1': -0.41561567783355713,\n",
       " u'linear_acceleration-2': -0.15469074249267578,\n",
       " u'magnetic_field-0': 144.23611450195312,\n",
       " u'magnetic_field-1': -3.139726400375366,\n",
       " u'magnetic_field-2': -0.8876655101776123,\n",
       " u'pitch': -0.012608430348336697,\n",
       " u'proximity-0': 5,\n",
       " u'proximity-1': 0,\n",
       " u'proximity-2': 0,\n",
       " u'roll': -0.0077643017284572124,\n",
       " u'rotation_vector-0': 0.015781104564666748,\n",
       " u'rotation_vector-1': -0.02369396761059761,\n",
       " u'rotation_vector-2': -0.9512404203414917,\n",
       " u'time': 1446236812.347,\n",
       " u'xMag': -188.8,\n",
       " u'xforce': 0.074818805,\n",
       " u'yMag': -265.9,\n",
       " u'yforce': 0.12150574,\n",
       " u'zMag': -46.6,\n",
       " u'zforce': 9.636064}"
      ]
     },
     "execution_count": 112,
     "metadata": {},
     "output_type": "execute_result"
    }
   ],
   "source": [
    "s1"
   ]
  }
 ],
 "metadata": {
  "kernelspec": {
   "display_name": "Python 2",
   "language": "python",
   "name": "python2"
  },
  "language_info": {
   "codemirror_mode": {
    "name": "ipython",
    "version": 2
   },
   "file_extension": ".py",
   "mimetype": "text/x-python",
   "name": "python",
   "nbconvert_exporter": "python",
   "pygments_lexer": "ipython2",
   "version": "2.7.10"
  }
 },
 "nbformat": 4,
 "nbformat_minor": 0
}
